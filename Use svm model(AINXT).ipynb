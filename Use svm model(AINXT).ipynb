{
 "cells": [
  {
   "cell_type": "markdown",
   "id": "cfbde7f9",
   "metadata": {},
   "source": [
    "# Signature Recognition Using Machine Learning"
   ]
  },
  {
   "cell_type": "markdown",
   "id": "5fb1c642",
   "metadata": {},
   "source": [
    "What Is Signature Recognition?\n",
    "Signature recognition is a biometric method of identifying individuals based on their unique signature patterns. It’s widely used for:\n",
    "\n",
    "Authentication: Validating the legitimacy of a signature.\n",
    "Forgery Detection: Identifying fraudulent signatures.\n",
    "Secure Transactions: Ensuring that sensitive operations are performed by authorized personnel."
   ]
  },
  {
   "cell_type": "raw",
   "id": "9161802b",
   "metadata": {},
   "source": [
    "In this project, we’ll leverage machine learning and image processing techniques to distinguish between valid and invalid signatures."
   ]
  },
  {
   "cell_type": "markdown",
   "id": "065c3d45",
   "metadata": {},
   "source": [
    "# Project Workflow"
   ]
  },
  {
   "cell_type": "raw",
   "id": "b02d86a7",
   "metadata": {},
   "source": [
    "1)Data Collection: Gather a dataset of genuine and forged signatures.\n",
    "2)Preprocessing: Process the images for uniformity and quality.\n",
    "3)Feature Extraction: Extract meaningful patterns from the signature images.\n",
    "4)Model Training: Train a classifier to distinguish between valid and invalid signatures.\n",
    "5)Evaluation: Test the model’s accuracy and reliability.\n",
    "6)Deployment: Package the solution for real-world use."
   ]
  },
  {
   "cell_type": "raw",
   "id": "5ef9b4d8",
   "metadata": {},
   "source": [
    "Step 1: Data Collection\n",
    "The dataset for this project contains images of signatures categorized as genuine or forged. For simplicity:\n",
    "\n",
    "valid Signatures: Collected from the original signer.\n",
    "invalid Signatures: Created by imitators trying to replicate the original signer’s handwriting."
   ]
  },
  {
   "cell_type": "code",
   "execution_count": 1,
   "id": "fa5b0a47",
   "metadata": {},
   "outputs": [
    {
     "name": "stderr",
     "output_type": "stream",
     "text": [
      "C:\\Users\\kalpana\\AppData\\Roaming\\Python\\Python39\\site-packages\\scipy\\__init__.py:146: UserWarning: A NumPy version >=1.16.5 and <1.23.0 is required for this version of SciPy (detected version 1.26.4\n",
      "  warnings.warn(f\"A NumPy version >={np_minversion} and <{np_maxversion}\"\n"
     ]
    }
   ],
   "source": [
    "import cv2\n",
    "import numpy as np\n",
    "import os\n",
    "from sklearn.svm import SVC\n",
    "from sklearn.model_selection import train_test_split\n",
    "from sklearn.metrics import accuracy_score\n"
   ]
  },
  {
   "cell_type": "markdown",
   "id": "979b101a",
   "metadata": {},
   "source": [
    "# Step 2: Preprocessing"
   ]
  },
  {
   "cell_type": "raw",
   "id": "59701ef6",
   "metadata": {},
   "source": [
    "\n",
    "Preprocessing ensures that the signature images are uniform and ready for feature extraction.\n",
    "\n",
    "Techniques Used\n",
    "Resizing: Normalize all images to the same dimensions.\n",
    "Grayscale Conversion: Convert images to grayscale to reduce complexity.\n",
    "Noise Removal: Apply filters to remove background noise.\n",
    "Thresholding: Highlight the signature while suppressing the background."
   ]
  },
  {
   "cell_type": "markdown",
   "id": "73f0c65b",
   "metadata": {},
   "source": [
    "# Step 3: Feature Extraction"
   ]
  },
  {
   "cell_type": "raw",
   "id": "f6f7c66d",
   "metadata": {},
   "source": [
    "Feature extraction converts raw image data into meaningful patterns that the model can use for classification.\n",
    "\n",
    "Features Used\n",
    "Pixel Intensity: Analyze pixel values to identify signature patterns.\n",
    "Edge Detection: Use techniques like the Sobel operator to detect signature edges.\n",
    "HOG (Histogram of Oriented Gradients): Capture the shape and texture of the signature."
   ]
  },
  {
   "cell_type": "code",
   "execution_count": 2,
   "id": "494175f1",
   "metadata": {},
   "outputs": [],
   "source": [
    "import cv2\n",
    "import numpy as np\n",
    "import os\n",
    "from sklearn.svm import SVC\n",
    "from sklearn.model_selection import train_test_split\n",
    "from sklearn.metrics import accuracy_score\n",
    "\n",
    "# Function to extract features from a signature image\n",
    "def extract_features(image):\n",
    "    # Convert to grayscale\n",
    "    gray = cv2.cvtColor(image, cv2.COLOR_BGR2GRAY)\n",
    "    \n",
    "    # Resize to a fixed size\n",
    "    resized = cv2.resize(gray, (128, 128))\n",
    "    \n",
    "    # Apply thresholding (binarization)\n",
    "    _, binary = cv2.threshold(resized, 128, 255, cv2.THRESH_BINARY_INV)\n",
    "    \n",
    "    # Compute Histogram of Oriented Gradients (HOG) as features\n",
    "    hog = cv2.HOGDescriptor()\n",
    "    h = hog.compute(binary)\n",
    "    \n",
    "    return h.flatten()  # Convert to 1D feature vector\n",
    "\n",
    "# Load dataset of valid and invalid signatures\n",
    "def load_data(valid_path, invalid_path):\n",
    "    X, y = [], []\n",
    "\n",
    "    # Load valid signatures\n",
    "    for filename in os.listdir(valid_path):\n",
    "        img = cv2.imread(os.path.join(valid_path, filename))\n",
    "        if img is not None:\n",
    "            X.append(extract_features(img))\n",
    "            y.append(1)  # Label: 1 for valid signatures\n",
    "\n",
    "    # Load invalid inputs\n",
    "    for filename in os.listdir(invalid_path):\n",
    "        img = cv2.imread(os.path.join(invalid_path, filename))\n",
    "        if img is not None:\n",
    "            X.append(extract_features(img))\n",
    "            y.append(0)  # Label: 0 for invalid signatures\n",
    "\n",
    "    return np.array(X), np.array(y)\n",
    "\n",
    "# Paths to valid and invalid signature datasets\n",
    "valid_signatures_path = \"C:\\\\Users\\\\kalpana\\\\Downloads\\\\sign_data\\\\sign_data\\\\valid\"\n",
    "invalid_signatures_path = \"C:\\\\Users\\\\kalpana\\\\Downloads\\\\sign_data\\\\sign_data\\\\invalid\"\n"
   ]
  },
  {
   "cell_type": "markdown",
   "id": "72d11b6b",
   "metadata": {},
   "source": [
    "# Step 4: Model Training"
   ]
  },
  {
   "cell_type": "code",
   "execution_count": 47,
   "id": "a5f4e722",
   "metadata": {},
   "outputs": [
    {
     "name": "stdout",
     "output_type": "stream",
     "text": [
      "Model Accuracy: 77.78%\n"
     ]
    }
   ],
   "source": [
    "\n",
    "# Load dataset\n",
    "X, y = load_data(valid_signatures_path, invalid_signatures_path)\n",
    "\n",
    "# Split into training and testing sets\n",
    "X_train, X_test, y_train, y_test = train_test_split(X, y, test_size=0.2, random_state=42)\n",
    "\n",
    "# Train an SVM classifier\n",
    "svm = SVC(kernel='linear', C=0.1, gamma=0.1)\n",
    "svm.fit(X_train, y_train)\n",
    "\n",
    "# Predict on test data\n",
    "y_pred = svm.predict(X_test)\n",
    "\n",
    "# Evaluate the model\n",
    "accuracy = accuracy_score(y_test, y_pred)\n",
    "print(f\"Model Accuracy: {accuracy * 100:.2f}%\")\n",
    "\n",
    "# Function to verify a new signature\n",
    "def verify_signature(image_path):\n",
    "    img = cv2.imread(image_path)\n",
    "    if img is None:\n",
    "        print(\"Error: Unable to load image\")\n",
    "        return\n",
    "\n",
    "    features = extract_features(img).reshape(1, -1)\n",
    "    prediction = svm.predict(features)\n",
    "\n",
    "    if prediction[0] == 1:\n",
    "        print(\"Signature Verified: VALID\")\n",
    "    else:\n",
    "        print(\"Signature Rejected: INVALID\")\n"
   ]
  },
  {
   "cell_type": "code",
   "execution_count": 48,
   "id": "220b8093",
   "metadata": {},
   "outputs": [
    {
     "name": "stdout",
     "output_type": "stream",
     "text": [
      "F1 Score: 0.7500\n"
     ]
    }
   ],
   "source": [
    "# Compute F1-score (for binary classification)\n",
    "from sklearn.metrics import accuracy_score, f1_score\n",
    "f1 = f1_score(y_test, y_pred)\n",
    "print(f'F1 Score: {f1:.4f}')\n"
   ]
  },
  {
   "cell_type": "code",
   "execution_count": 49,
   "id": "825d984b",
   "metadata": {},
   "outputs": [
    {
     "data": {
      "image/png": "[encoded data removed]",
      "text/plain": [
       "<Figure size 800x600 with 1 Axes>"
      ]
     },
     "metadata": {},
     "output_type": "display_data"
    }
   ],
   "source": [
    "from sklearn.metrics import precision_recall_curve\n",
    "import matplotlib.pyplot as plt\n",
    "\n",
    "# Get precision-recall curve data\n",
    "precision, recall, thresholds = precision_recall_curve(y_test, y_pred)\n",
    "\n",
    "# Plot the Precision-Recall curve\n",
    "plt.figure(figsize=(8, 6))\n",
    "plt.plot(recall, precision, marker='.')\n",
    "plt.title('Precision-Recall Curve')\n",
    "plt.xlabel('Recall')\n",
    "plt.ylabel('Precision')\n",
    "plt.show()\n"
   ]
  },
  {
   "cell_type": "code",
   "execution_count": 50,
   "id": "d2da064e",
   "metadata": {},
   "outputs": [
    {
     "name": "stdout",
     "output_type": "stream",
     "text": [
      "F1 Score (Adjusted Threshold): 0.75\n"
     ]
    }
   ],
   "source": [
    "threshold = 0.3  # Adjust this threshold as per your needs\n",
    "y_pred_adjusted = (y_pred >= threshold).astype(int)\n",
    "\n",
    "# Calculate the F1 Score with the adjusted threshold\n",
    "f1_adjusted = f1_score(y_test, y_pred_adjusted)\n",
    "print(f'F1 Score (Adjusted Threshold): {f1_adjusted:.2f}')\n"
   ]
  },
  {
   "cell_type": "code",
   "execution_count": 51,
   "id": "8273f118",
   "metadata": {},
   "outputs": [
    {
     "name": "stdout",
     "output_type": "stream",
     "text": [
      "Best Parameters: {'C': 0.1, 'gamma': 0.1, 'kernel': 'linear'}\n"
     ]
    }
   ],
   "source": [
    "from sklearn.model_selection import GridSearchCV\n",
    "\n",
    "# Define parameter grid\n",
    "param_grid = {'C': [0.1, 1, 10], 'gamma': [0.1, 1, 10], 'kernel': ['linear', 'rbf']}\n",
    "\n",
    "# Create GridSearchCV object\n",
    "grid_search = GridSearchCV(SVC(), param_grid, cv=5, scoring='accuracy')\n",
    "\n",
    "# Fit the grid search\n",
    "grid_search.fit(X_train, y_train)\n",
    "\n",
    "# Get the best parameters\n",
    "print(\"Best Parameters:\", grid_search.best_params_)\n",
    "\n",
    "# Use the best model\n",
    "best_model = grid_search.best_estimator_\n"
   ]
  },
  {
   "cell_type": "code",
   "execution_count": 52,
   "id": "ddd7cb3e",
   "metadata": {},
   "outputs": [
    {
     "name": "stdout",
     "output_type": "stream",
     "text": [
      "Cross-Validation Accuracy: 0.86\n"
     ]
    }
   ],
   "source": [
    "from sklearn.model_selection import cross_val_score\n",
    "\n",
    "# Perform 5-fold cross-validation\n",
    "cv_scores = cross_val_score(SVC(kernel='linear'), X, y, cv=5)\n",
    "print(f'Cross-Validation Accuracy: {cv_scores.mean():.2f}')\n"
   ]
  },
  {
   "cell_type": "code",
   "execution_count": 53,
   "id": "998336a7",
   "metadata": {},
   "outputs": [
    {
     "name": "stdout",
     "output_type": "stream",
     "text": [
      "Confusion Matrix:\n",
      "[[4 2]\n",
      " [0 3]]\n"
     ]
    }
   ],
   "source": [
    "from sklearn.metrics import confusion_matrix\n",
    "\n",
    "# Confusion matrix\n",
    "cm = confusion_matrix(y_test, y_pred)\n",
    "print(\"Confusion Matrix:\")\n",
    "print(cm)\n"
   ]
  },
  {
   "cell_type": "code",
   "execution_count": 54,
   "id": "f7780fc9",
   "metadata": {},
   "outputs": [
    {
     "name": "stdout",
     "output_type": "stream",
     "text": [
      "False Positives (FP): 2\n",
      "False Negatives (FN): 0\n"
     ]
    }
   ],
   "source": [
    "# Extract False Positives (FP) and False Negatives (FN)\n",
    "FP = cm[0][1]\n",
    "FN = cm[1][0]\n",
    "\n",
    "print(f\"False Positives (FP): {FP}\")\n",
    "print(f\"False Negatives (FN): {FN}\")\n"
   ]
  },
  {
   "cell_type": "code",
   "execution_count": 55,
   "id": "9a022e94",
   "metadata": {},
   "outputs": [
    {
     "data": {
      "image/png": "[encoded data removed]",
      "text/plain": [
       "<Figure size 600x500 with 2 Axes>"
      ]
     },
     "metadata": {},
     "output_type": "display_data"
    }
   ],
   "source": [
    "import seaborn as sns\n",
    "import matplotlib.pyplot as plt\n",
    "\n",
    "# Plot confusion matrix\n",
    "plt.figure(figsize=(6, 5))\n",
    "sns.heatmap(cm, annot=True, fmt='d', cmap='Blues', xticklabels=['Pred Negative', 'Pred Positive'], yticklabels=['Actual Negative', 'Actual Positive'])\n",
    "plt.title('Confusion Matrix')\n",
    "plt.xlabel('Predicted')\n",
    "plt.ylabel('Actual')\n",
    "plt.show()\n"
   ]
  },
  {
   "cell_type": "code",
   "execution_count": 57,
   "id": "d214e725",
   "metadata": {},
   "outputs": [
    {
     "name": "stdout",
     "output_type": "stream",
     "text": [
      "Signature Verified: VALID\n"
     ]
    }
   ],
   "source": [
    "# Example test on a new signature\n",
    "verify_signature(\"C:\\\\Users\\\\kalpana\\\\Downloads\\\\WhatsApp Image 2025-02-17 at 5.33.12 PM.jpeg\")"
   ]
  },
  {
   "cell_type": "code",
   "execution_count": 58,
   "id": "9cf611f7",
   "metadata": {},
   "outputs": [
    {
     "name": "stdout",
     "output_type": "stream",
     "text": [
      "Signature Verified: VALID\n"
     ]
    }
   ],
   "source": [
    "# Example test on a new signature\n",
    "verify_signature(\"C:\\\\Users\\\\kalpana\\\\Downloads\\\\WhatsApp Image 2025-02-17 at 3.27.52 PM.jpeg\")\n"
   ]
  },
  {
   "cell_type": "code",
   "execution_count": 59,
   "id": "18691361",
   "metadata": {},
   "outputs": [
    {
     "name": "stdout",
     "output_type": "stream",
     "text": [
      "Signature Rejected: INVALID\n"
     ]
    }
   ],
   "source": [
    "# Example test on a new signature\n",
    "verify_signature(\"C:\\\\Users\\\\kalpana\\\\Downloads\\\\WhatsApp Image 2025-02-17 at 3.32.00 PM.jpeg\")"
   ]
  },
  {
   "cell_type": "code",
   "execution_count": 60,
   "id": "c92f99fe",
   "metadata": {},
   "outputs": [
    {
     "name": "stdout",
     "output_type": "stream",
     "text": [
      "Signature Verified: VALID\n"
     ]
    }
   ],
   "source": [
    "# Example test on a new signature\n",
    "verify_signature(\"C:\\\\Users\\\\kalpana\\\\Downloads\\\\WhatsApp Image 2025-02-17 at 3.07.24 PM.jpeg\")"
   ]
  },
  {
   "cell_type": "code",
   "execution_count": null,
   "id": "5e075298",
   "metadata": {},
   "outputs": [],
   "source": []
  }
 ],
 "metadata": {
  "kernelspec": {
   "display_name": "Python 3 (ipykernel)",
   "language": "python",
   "name": "python3"
  },
  "language_info": {
   "codemirror_mode": {
    "name": "ipython",
    "version": 3
   },
   "file_extension": ".py",
   "mimetype": "text/x-python",
   "name": "python",
   "nbconvert_exporter": "python",
   "pygments_lexer": "ipython3",
   "version": "3.9.13"
  }
 },
 "nbformat": 4,
 "nbformat_minor": 5
}
